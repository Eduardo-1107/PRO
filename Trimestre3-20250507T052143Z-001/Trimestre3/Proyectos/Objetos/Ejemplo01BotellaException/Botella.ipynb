{
 "cells": [
  {
   "cell_type": "markdown",
   "metadata": {},
   "source": [
    "```mermaid\n",
    "classDiagram\n",
    "    class Botella {\n",
    "        -float capacidad\n",
    "        -float contenido\n",
    "        -bool abierta\n",
    "        +Botella()\n",
    "        +Botella(float cap)\n",
    "        +void Abrir()\n",
    "        +void Cerrar()\n",
    "        +bool EstaLlena()\n",
    "        +bool EstaVacia()\n",
    "        +float Anadir(float liq)\n",
    "        +float Quitar(float liq)\n",
    "        +float Contiene()\n",
    "        +float LeCabe()\n",
    "    }\n",
    "```"
   ]
  }
 ],
 "metadata": {
  "language_info": {
   "name": "csharp"
  }
 },
 "nbformat": 4,
 "nbformat_minor": 2
}
