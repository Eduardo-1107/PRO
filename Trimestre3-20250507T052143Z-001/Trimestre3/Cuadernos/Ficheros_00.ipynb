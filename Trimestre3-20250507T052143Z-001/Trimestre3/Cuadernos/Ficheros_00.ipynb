{
 "cells": [
  {
   "cell_type": "markdown",
   "metadata": {},
   "source": [
    "Los tipos System.IO sirven principalmente como medio principal para archivos de E/S orientados a flujos, aunque los tipos abstractos definidos aquí sirven como clases base para otras formas de E/S, como la pila XML en System.Xml.\n",
    "\n",
    "El espacio de nombres System.IO se muestra en la Figura 31-1 y la Figura 31-2.\n",
    "\n",
    "El espacio de nombres System.IO puede verse como dos particiones distintas:\n",
    "- Un conjunto de tipos de utilidad para usar y trabajar con el sistema de archivos de la máquina local.\n",
    "- Una pila de protocolos para trabajar con entrada y salida orientada a flujos de bytes.\n",
    "\n",
    "La primera partición es la colección de clases como Directory y FileSystemWatcher, mientras que la segunda partición es el conjunto de tipos Stream y Reader/Writer.\n",
    "\n",
    "Los tipos Stream en System.IO siguen un modelo de objetos básico, similar al modelo de E/S utilizado por la biblioteca de tiempo de ejecución de C/C++: todo acceso de bytes en serie es un flujo, y hay diferentes fuentes y sumideros para estos datos de bytes serializados.\n",
    "\n",
    "En el paquete System.IO, esto está representado directamente por el tipo base abstracto Stream; sus subtipos concretos representan el acceso real de E/S:\n",
    "- FileStream representa E/S a un archivo,\n",
    "- MemoryStream representa E/S a un array literal de bytes (cuyo tamaño se gestiona dinámicamente) en memoria.\n",
    "\n",
    "Otros paquetes dentro de la Biblioteca de Clases del .NET Framework ofrecen sus propios tipos derivados de Stream. Por ejemplo, en el espacio de nombres System.Net, las conexiones de socket y las respuestas HTTP se ofrecen como tipos derivados de Stream, dando a los programadores de .NET la capacidad de tratar cualquier tipo de datos de entrada o salida como \"solo un flujo\".\n",
    "\n",
    "Sin embargo, simplemente leer y escribir en estos flujos no es suficiente abstracción. En particular, los programadores a menudo necesitan realizar uno de dos tipos de E/S:\n",
    "- E/S binaria, que es escribir representaciones binarias reales de objetos o datos en el disco,\n",
    "- o E/S de texto, que es escribir las representaciones textuales de esos datos.\n",
    "\n",
    "Estas operaciones son fundamentalmente diferentes: escribir la representación de texto del valor entero 5 produce el texto literal \"5\" dentro del flujo, mientras que escribir el valor binario genera el valor hexadecimal 0x00000005 (representado como cuatro bytes, 05 00 00 00, en el archivo).\n",
    "\n",
    "En las bibliotecas .NET, debido a que estos tipos de operaciones de E/S son diferentes entre sí, estas operaciones se abstraen en dos conjuntos de tipos base abstractos:\n",
    "- BinaryReader y BinaryWriter son para leer y escribir valores binarios en flujos,\n",
    "- TextReader y TextWriter son para leer y escribir datos basados en caracteres.\n",
    "\n",
    "Figura 31-1. El espacio de nombres System.IO\n",
    "\n",
    "![Diagrama clase IO](Fig.31.1.gif)\n",
    "\n",
    "Figura 31-2. Excepciones, delegados, argumentos de eventos y componentes en el espacio de nombres System.IO\n",
    "\n",
    "![Diagrama clase IO](Fig.31.2.gif)\n",
    "\n",
    "\n",
    "\n",
    "\n",
    "Tenga en cuenta que el espacio de nombres System.IO también ofrece algunas opciones interesantes de flujo sobre flujo. Al igual que el paquete java.io de Java, los tipos Stream pueden superponerse a otros tipos Stream para ofrecer funcionalidad adicional; esto es el patrón Decorator (del libro Design Patterns). El único ejemplo de esto en el espacio de nombres System.IO es BufferedStream, que mantiene un búfer sobre el objeto Stream pasado a él en su constructor.\n",
    "\n",
    "Todos estos tipos trabajan juntos para proporcionar algunas abstracciones y comportamientos compuestos poderosos. Por ejemplo:\n",
    "- Al trabajar con datos de acceso aleatorio, cree un BinaryReader alrededor de un BufferedStream, que a su vez envuelve un FileStream. Si decide más tarde almacenar los datos de acceso aleatorio en memoria por motivos de optimización, cambie el par BufferedStream/FileStream por un MemoryStream.\n",
    "- Al leer un archivo de configuración, elija declarar el método ReadConfiguration que ha escrito para tomar un TextReader arbitrario, en lugar de pedir una cadena que contenga el nombre del archivo. Esto permite flexibilidad más adelante; quizás la configuración quiera almacenarse en un campo CLOB en un RDBMS. Simplemente cambie la instancia real de Stream pasada al TextReader y comience a leer la configuración del RDBMS, de una solicitud de socket o de la respuesta HTTP enviada a un servidor web. De manera similar, al planear extender las capacidades del espacio de nombres System.IO, intente seguir este mismo modelo. Si desea agregar compresión para ahorrar en el tamaño de un archivo de configuración, simplemente construya un CompressingStream que envuelva otro Stream de la manera que lo hace BufferedStream. Si desea tener alguna comunicación entre procesos con una aplicación Win32 \"heredada\" existente (quizás comunicarse a través de una tubería con nombre de NT), simplemente construya un NamedPipeStream.\n",
    "\n",
    "En general, no hay ninguna razón particular para tomar derivados específicos de Stream como parámetros; al limitar los parámetros esperados para que sean de tipo Stream, los programadores de .NET pueden obtener una increíble cantidad de flexibilidad con respecto a dónde y cómo viven los datos.\n",
    "\n",
    "A pesar de todo esto, ciertas tareas programáticas simplemente requieren acceso al sistema de archivos. El sistema de archivos subyacente es jerárquico, y habrá momentos en que simplemente no se puede escapar de ese hecho. Para estas tareas, el espacio de nombres System.IO de .NET proporciona los tipos de sistema de archivos: Directory, DirectoryInfo, File, FileInfo y sus enumeraciones asociadas, FileSystemInfo, FileSystemWatcher y Path (¡finalmente, una clase que entiende las rutas de directorio en todas sus diversas encarnaciones!). Estas clases deben usarse principalmente para operaciones de \"meta-archivo\" (enumerar archivos, descubrir atributos sobre un archivo, crear o destruir un directorio, etc.) en lugar de para operaciones sobre el contenido del archivo (para lo cual los tipos basados en Stream descritos anteriormente son más apropiados)."
   ]
  }
 ],
 "metadata": {
  "language_info": {
   "name": "csharp"
  }
 },
 "nbformat": 4,
 "nbformat_minor": 2
}
