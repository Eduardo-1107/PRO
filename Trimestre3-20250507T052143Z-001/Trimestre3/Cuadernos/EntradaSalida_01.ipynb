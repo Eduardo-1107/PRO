{
 "cells": [
  {
   "cell_type": "code",
   "execution_count": 3,
   "metadata": {
    "dotnet_interactive": {
     "language": "csharp"
    },
    "polyglot_notebook": {
     "kernelName": "csharp"
    },
    "vscode": {
     "languageId": "polyglot-notebook"
    }
   },
   "outputs": [],
   "source": [
    "using System.IO;"
   ]
  },
  {
   "cell_type": "code",
   "execution_count": 4,
   "metadata": {
    "dotnet_interactive": {
     "language": "csharp"
    },
    "polyglot_notebook": {
     "kernelName": "csharp"
    },
    "vscode": {
     "languageId": "polyglot-notebook"
    }
   },
   "outputs": [
    {
     "name": "stdout",
     "output_type": "stream",
     "text": [
      "Hola\n",
      "Me llamo Pepe.\n"
     ]
    }
   ],
   "source": [
    "StringReader x;\n",
    "x = new StringReader(\"Hola\\nMe llamo Pepe.\\n\\tAdiós\");\n",
    "Console.WriteLine(x.ReadLine());\n",
    "Console.WriteLine(x.ReadLine());"
   ]
  },
  {
   "cell_type": "code",
   "execution_count": 12,
   "metadata": {
    "dotnet_interactive": {
     "language": "csharp"
    },
    "polyglot_notebook": {
     "kernelName": "csharp"
    },
    "vscode": {
     "languageId": "polyglot-notebook"
    }
   },
   "outputs": [
    {
     "name": "stdout",
     "output_type": "stream",
     "text": [
      "Hola\n",
      "Me llamo Ana\n",
      "12\n",
      "\t23 años\n",
      "\n",
      "Hola\n",
      "Me llamo Ana\n",
      "12\n",
      "\t23 años\n",
      "Adios.\n",
      "\n"
     ]
    }
   ],
   "source": [
    "StringWriter w = new StringWriter();\n",
    "w.WriteLine(\"Hola\");\n",
    "w.WriteLine(\"Me llamo Ana\");\n",
    "w.WriteLine(\"12\\n\\t23 años\");\n",
    "Console.WriteLine(w);  //w.ToString()\n",
    "\n",
    "w.WriteLine(\"Adios.\");\n",
    "Console.WriteLine(w);\n"
   ]
  },
  {
   "cell_type": "code",
   "execution_count": 32,
   "metadata": {
    "dotnet_interactive": {
     "language": "csharp"
    },
    "polyglot_notebook": {
     "kernelName": "csharp"
    },
    "vscode": {
     "languageId": "polyglot-notebook"
    }
   },
   "outputs": [],
   "source": [
    "//FileStream fs = new FileStream(\"texto.txt\", FileMode.Create);\n",
    "//StreamWriter sw = new StreamWriter(fs);\n",
    "StreamWriter sw = File.CreateText(\"texto.txt\");\n",
    "//StreamWriter sw = File.AppendText(@\"C:\\Users\\ftoblare\\Documents\\texto.txt\");\n",
    "sw.WriteLine(\"Tururú...\");\n",
    "sw.WriteLine(\"Me llamó Pedro Picapiedra\");\n",
    "sw.Close();\n"
   ]
  },
  {
   "cell_type": "code",
   "execution_count": 15,
   "metadata": {
    "dotnet_interactive": {
     "language": "csharp"
    },
    "polyglot_notebook": {
     "kernelName": "csharp"
    },
    "vscode": {
     "languageId": "polyglot-notebook"
    }
   },
   "outputs": [
    {
     "name": "stdout",
     "output_type": "stream",
     "text": [
      "Tururú...\n",
      "Me llamó Pedro Picapiedra\n"
     ]
    }
   ],
   "source": [
    "FileStream fs = new FileStream(\"texto.txt\", FileMode.Open);\n",
    "StreamReader sr = new StreamReader(fs);\n",
    "//StreamWriter sw = File.CreateText(@\"C:\\Users\\ftoblare\\Documents\\texto.txt\");\n",
    "Console.WriteLine(sr.ReadLine());\n",
    "Console.WriteLine(sr.ReadLine());\n",
    "\n",
    "\n",
    "sr.Close();"
   ]
  },
  {
   "cell_type": "code",
   "execution_count": 22,
   "metadata": {
    "dotnet_interactive": {
     "language": "csharp"
    },
    "polyglot_notebook": {
     "kernelName": "csharp"
    },
    "vscode": {
     "languageId": "polyglot-notebook"
    }
   },
   "outputs": [
    {
     "name": "stdout",
     "output_type": "stream",
     "text": [
      "ñ\n",
      "urú...\n",
      "Me llamó Pedro Picapiedra\n",
      "Se acabó...\n"
     ]
    }
   ],
   "source": [
    "FileStream fs = new FileStream(\"texto.txt\", FileMode.Open);\n",
    "StreamReader sr = new StreamReader(fs);\n",
    "int iCaracter; \n",
    "// iCaracter = sr.Read();\n",
    "// while(iCaracter!=-1){\n",
    "//     Console.Write((char)iCaracter);\n",
    "//     iCaracter = sr.Read();\n",
    "// }\n",
    "while((iCaracter = sr.Read())!=-1)\n",
    "    Console.Write((char)iCaracter);\n",
    "\n",
    "sr.Close();\n",
    "\n",
    "Console.WriteLine(\"Se acabó...\");\n"
   ]
  },
  {
   "cell_type": "code",
   "execution_count": 30,
   "metadata": {
    "dotnet_interactive": {
     "language": "csharp"
    },
    "polyglot_notebook": {
     "kernelName": "csharp"
    },
    "vscode": {
     "languageId": "polyglot-notebook"
    }
   },
   "outputs": [],
   "source": [
    "// ATENCIÓN A ESTE MAL USO\n",
    "// Abriendo para leer escribo machacando el contenido previo\n",
    "// y puede terminar mal...\n",
    "\n",
    "FileStream fs = new FileStream(\"texto.txt\", FileMode.Open);\n",
    "StreamWriter sw = new StreamWriter(fs);\n",
    "//StreamWriter sw = File.CreateText(@\"C:\\Users\\ftoblare\\Documents\\texto.txt\");\n",
    "//StreamWriter sw = File.AppendText(@\"C:\\Users\\ftoblare\\Documents\\texto.txt\");\n",
    "sw.Write(\"a\");\n",
    "sw.Close();\n"
   ]
  }
 ],
 "metadata": {
  "kernelspec": {
   "display_name": ".NET (C#)",
   "language": "C#",
   "name": ".net-csharp"
  },
  "language_info": {
   "name": "csharp"
  },
  "polyglot_notebook": {
   "kernelInfo": {
    "defaultKernelName": "csharp",
    "items": [
     {
      "aliases": [],
      "name": "csharp"
     }
    ]
   }
  }
 },
 "nbformat": 4,
 "nbformat_minor": 2
}
