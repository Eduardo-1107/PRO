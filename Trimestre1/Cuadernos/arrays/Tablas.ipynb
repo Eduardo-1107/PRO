{
 "cells": [
  {
   "cell_type": "code",
   "execution_count": 2,
   "metadata": {
    "vscode": {
     "languageId": "polyglot-notebook"
    }
   },
   "outputs": [
    {
     "name": "stdout",
     "output_type": "stream",
     "text": [
      "2000 es Bisiesto\r\n"
     ]
    }
   ],
   "source": [
    "bool esBisiesto;\n",
    "int año = 2000;\n",
    "esBisiesto = año % 4 == 0 && año % 100 != 0 || año % 400 == 0;\n",
    "if(esBisiesto)\n",
    "    Console.WriteLine($\"{año} es Bisiesto\");\n",
    "else\n",
    "    Console.WriteLine($\"{año} NO es Bisiesto\");\n"
   ]
  },
  {
   "cell_type": "code",
   "execution_count": 1,
   "metadata": {
    "dotnet_interactive": {
     "language": "csharp"
    },
    "polyglot_notebook": {
     "kernelName": "csharp"
    },
    "vscode": {
     "languageId": "polyglot-notebook"
    }
   },
   "outputs": [
    {
     "name": "stdout",
     "output_type": "stream",
     "text": [
      "Enero tiene 31 días\n",
      "Febrero tiene 28 días\n",
      "Marzo tiene 31 días\n",
      "Abril tiene 30 días\n",
      "Mayo tiene 31 días\n",
      "Junio tiene 30 días\n",
      "Julio tiene 31 días\n",
      "Agosto tiene 31 días\n",
      "Septiembre tiene 30 días\n",
      "Octubre tiene 31 días\n",
      "Noviembre tiene 30 días\n",
      "Diciembre tiene 31 días\n"
     ]
    }
   ],
   "source": [
    "int[] diasMes = {31, 28, 31, 30, 31, 30, 31, 31, 30, 31, 30, 31};\n",
    "string[] nombreMes = {\"Enero\", \"Febrero\", \"Marzo\", \"Abril\", \"Mayo\", \"Junio\", \n",
    "                      \"Julio\", \"Agosto\", \"Septiembre\", \"Octubre\", \"Noviembre\", \"Diciembre\"};\n",
    "\n",
    "for (int i = 0; i < 12; i++) {\n",
    "Console.WriteLine($\"{nombreMes[i]} tiene {diasMes[i]} días\");\n",
    "}"
   ]
  }
 ],
 "metadata": {
  "kernelspec": {
   "display_name": ".NET (C#)",
   "language": "C#",
   "name": ".net-csharp"
  },
  "language_info": {
   "file_extension": ".cs",
   "mimetype": "text/x-csharp",
   "name": "C#",
   "pygments_lexer": "csharp",
   "version": "11.0"
  },
  "polyglot_notebook": {
   "kernelInfo": {
    "defaultKernelName": "csharp",
    "items": [
     {
      "aliases": [],
      "languageName": "csharp",
      "name": "csharp"
     }
    ]
   }
  }
 },
 "nbformat": 4,
 "nbformat_minor": 2
}
